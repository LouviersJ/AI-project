{
 "cells": [
  {
   "cell_type": "code",
   "execution_count": 2,
   "metadata": {},
   "outputs": [
    {
     "data": {
      "text/html": [
       "<div>\n",
       "<style scoped>\n",
       "    .dataframe tbody tr th:only-of-type {\n",
       "        vertical-align: middle;\n",
       "    }\n",
       "\n",
       "    .dataframe tbody tr th {\n",
       "        vertical-align: top;\n",
       "    }\n",
       "\n",
       "    .dataframe thead th {\n",
       "        text-align: right;\n",
       "    }\n",
       "</style>\n",
       "<table border=\"1\" class=\"dataframe\">\n",
       "  <thead>\n",
       "    <tr style=\"text-align: right;\">\n",
       "      <th></th>\n",
       "      <th>age</th>\n",
       "      <th>sex</th>\n",
       "      <th>cp</th>\n",
       "      <th>trestbps</th>\n",
       "      <th>chol</th>\n",
       "      <th>fbs</th>\n",
       "      <th>restecg</th>\n",
       "      <th>thalach</th>\n",
       "      <th>exang</th>\n",
       "      <th>oldpeak</th>\n",
       "      <th>slope</th>\n",
       "      <th>ca</th>\n",
       "      <th>thal</th>\n",
       "      <th>num</th>\n",
       "    </tr>\n",
       "  </thead>\n",
       "  <tbody>\n",
       "    <tr>\n",
       "      <th>0</th>\n",
       "      <td>63</td>\n",
       "      <td>1</td>\n",
       "      <td>1</td>\n",
       "      <td>145</td>\n",
       "      <td>233</td>\n",
       "      <td>1</td>\n",
       "      <td>2</td>\n",
       "      <td>150</td>\n",
       "      <td>0</td>\n",
       "      <td>2.3</td>\n",
       "      <td>3</td>\n",
       "      <td>0</td>\n",
       "      <td>6</td>\n",
       "      <td>0</td>\n",
       "    </tr>\n",
       "    <tr>\n",
       "      <th>1</th>\n",
       "      <td>67</td>\n",
       "      <td>1</td>\n",
       "      <td>4</td>\n",
       "      <td>160</td>\n",
       "      <td>286</td>\n",
       "      <td>0</td>\n",
       "      <td>2</td>\n",
       "      <td>108</td>\n",
       "      <td>1</td>\n",
       "      <td>1.5</td>\n",
       "      <td>2</td>\n",
       "      <td>3</td>\n",
       "      <td>3</td>\n",
       "      <td>2</td>\n",
       "    </tr>\n",
       "    <tr>\n",
       "      <th>2</th>\n",
       "      <td>67</td>\n",
       "      <td>1</td>\n",
       "      <td>4</td>\n",
       "      <td>120</td>\n",
       "      <td>229</td>\n",
       "      <td>0</td>\n",
       "      <td>2</td>\n",
       "      <td>129</td>\n",
       "      <td>1</td>\n",
       "      <td>2.6</td>\n",
       "      <td>2</td>\n",
       "      <td>2</td>\n",
       "      <td>7</td>\n",
       "      <td>1</td>\n",
       "    </tr>\n",
       "    <tr>\n",
       "      <th>3</th>\n",
       "      <td>37</td>\n",
       "      <td>1</td>\n",
       "      <td>3</td>\n",
       "      <td>130</td>\n",
       "      <td>250</td>\n",
       "      <td>0</td>\n",
       "      <td>0</td>\n",
       "      <td>187</td>\n",
       "      <td>0</td>\n",
       "      <td>3.5</td>\n",
       "      <td>3</td>\n",
       "      <td>0</td>\n",
       "      <td>3</td>\n",
       "      <td>0</td>\n",
       "    </tr>\n",
       "    <tr>\n",
       "      <th>4</th>\n",
       "      <td>41</td>\n",
       "      <td>0</td>\n",
       "      <td>2</td>\n",
       "      <td>130</td>\n",
       "      <td>204</td>\n",
       "      <td>0</td>\n",
       "      <td>2</td>\n",
       "      <td>172</td>\n",
       "      <td>0</td>\n",
       "      <td>1.4</td>\n",
       "      <td>1</td>\n",
       "      <td>0</td>\n",
       "      <td>3</td>\n",
       "      <td>0</td>\n",
       "    </tr>\n",
       "    <tr>\n",
       "      <th>...</th>\n",
       "      <td>...</td>\n",
       "      <td>...</td>\n",
       "      <td>...</td>\n",
       "      <td>...</td>\n",
       "      <td>...</td>\n",
       "      <td>...</td>\n",
       "      <td>...</td>\n",
       "      <td>...</td>\n",
       "      <td>...</td>\n",
       "      <td>...</td>\n",
       "      <td>...</td>\n",
       "      <td>...</td>\n",
       "      <td>...</td>\n",
       "      <td>...</td>\n",
       "    </tr>\n",
       "    <tr>\n",
       "      <th>341</th>\n",
       "      <td>68</td>\n",
       "      <td>1</td>\n",
       "      <td>4</td>\n",
       "      <td>135</td>\n",
       "      <td>0</td>\n",
       "      <td>0</td>\n",
       "      <td>1</td>\n",
       "      <td>120</td>\n",
       "      <td>1</td>\n",
       "      <td>0.0</td>\n",
       "      <td>1</td>\n",
       "      <td>1</td>\n",
       "      <td>7</td>\n",
       "      <td>3</td>\n",
       "    </tr>\n",
       "    <tr>\n",
       "      <th>342</th>\n",
       "      <td>69</td>\n",
       "      <td>1</td>\n",
       "      <td>4</td>\n",
       "      <td>135</td>\n",
       "      <td>0</td>\n",
       "      <td>0</td>\n",
       "      <td>0</td>\n",
       "      <td>130</td>\n",
       "      <td>0</td>\n",
       "      <td>0.0</td>\n",
       "      <td>2</td>\n",
       "      <td>1</td>\n",
       "      <td>6</td>\n",
       "      <td>1</td>\n",
       "    </tr>\n",
       "    <tr>\n",
       "      <th>343</th>\n",
       "      <td>70</td>\n",
       "      <td>1</td>\n",
       "      <td>4</td>\n",
       "      <td>115</td>\n",
       "      <td>0</td>\n",
       "      <td>0</td>\n",
       "      <td>1</td>\n",
       "      <td>92</td>\n",
       "      <td>1</td>\n",
       "      <td>0.0</td>\n",
       "      <td>2</td>\n",
       "      <td>1</td>\n",
       "      <td>7</td>\n",
       "      <td>1</td>\n",
       "    </tr>\n",
       "    <tr>\n",
       "      <th>344</th>\n",
       "      <td>70</td>\n",
       "      <td>1</td>\n",
       "      <td>4</td>\n",
       "      <td>140</td>\n",
       "      <td>0</td>\n",
       "      <td>1</td>\n",
       "      <td>0</td>\n",
       "      <td>157</td>\n",
       "      <td>1</td>\n",
       "      <td>2.0</td>\n",
       "      <td>2</td>\n",
       "      <td>1</td>\n",
       "      <td>7</td>\n",
       "      <td>3</td>\n",
       "    </tr>\n",
       "    <tr>\n",
       "      <th>345</th>\n",
       "      <td>73</td>\n",
       "      <td>0</td>\n",
       "      <td>3</td>\n",
       "      <td>160</td>\n",
       "      <td>0</td>\n",
       "      <td>0</td>\n",
       "      <td>1</td>\n",
       "      <td>121</td>\n",
       "      <td>0</td>\n",
       "      <td>0.0</td>\n",
       "      <td>1</td>\n",
       "      <td>1</td>\n",
       "      <td>3</td>\n",
       "      <td>1</td>\n",
       "    </tr>\n",
       "  </tbody>\n",
       "</table>\n",
       "<p>346 rows × 14 columns</p>\n",
       "</div>"
      ],
      "text/plain": [
       "     age  sex  cp  trestbps  chol  fbs  restecg  thalach  exang  oldpeak  \\\n",
       "0     63    1   1       145   233    1        2      150      0      2.3   \n",
       "1     67    1   4       160   286    0        2      108      1      1.5   \n",
       "2     67    1   4       120   229    0        2      129      1      2.6   \n",
       "3     37    1   3       130   250    0        0      187      0      3.5   \n",
       "4     41    0   2       130   204    0        2      172      0      1.4   \n",
       "..   ...  ...  ..       ...   ...  ...      ...      ...    ...      ...   \n",
       "341   68    1   4       135     0    0        1      120      1      0.0   \n",
       "342   69    1   4       135     0    0        0      130      0      0.0   \n",
       "343   70    1   4       115     0    0        1       92      1      0.0   \n",
       "344   70    1   4       140     0    1        0      157      1      2.0   \n",
       "345   73    0   3       160     0    0        1      121      0      0.0   \n",
       "\n",
       "     slope  ca  thal  num  \n",
       "0        3   0     6    0  \n",
       "1        2   3     3    2  \n",
       "2        2   2     7    1  \n",
       "3        3   0     3    0  \n",
       "4        1   0     3    0  \n",
       "..     ...  ..   ...  ...  \n",
       "341      1   1     7    3  \n",
       "342      2   1     6    1  \n",
       "343      2   1     7    1  \n",
       "344      2   1     7    3  \n",
       "345      1   1     3    1  \n",
       "\n",
       "[346 rows x 14 columns]"
      ]
     },
     "execution_count": 2,
     "metadata": {},
     "output_type": "execute_result"
    }
   ],
   "source": [
    "# Import modules and clean data\n",
    "import pandas as pd\n",
    "import numpy as np\n",
    "\n",
    "cleveland = pd.read_csv('processed.cleveland.data')\n",
    "switzerland = pd.read_csv('processed.switzerland.data')\n",
    "df = pd.concat([cleveland, switzerland])\n",
    "df.replace('?', np.NAN, inplace=True)\n",
    "df.dropna(thresh=13, inplace = True)\n",
    "df.reset_index(inplace=True)\n",
    "df.drop('index', axis = 1, inplace = True)\n",
    "df = df.astype(float)\n",
    "df.ca.fillna( df.ca.mean().__round__(), inplace = True)\n",
    "df.thal.fillna(df.thal.mean().__round__(), inplace = True)\n",
    "df = df.convert_dtypes()\n",
    "df.num = df.num.astype(int)\n",
    "df"
   ]
  },
  {
   "cell_type": "code",
   "execution_count": 3,
   "metadata": {},
   "outputs": [
    {
     "name": "stdout",
     "output_type": "stream",
     "text": [
      "1    181\n",
      "0    165\n",
      "Name: num, dtype: int64 \n",
      " 0    165\n",
      "1     67\n",
      "3     50\n",
      "2     48\n",
      "4     16\n",
      "Name: num, dtype: int64\n"
     ]
    }
   ],
   "source": [
    "# Create copy dataframe with binary clasification\n",
    "df_ = df.copy()\n",
    "df_.num.replace([1,2,3,4], 1, inplace= True)\n",
    "print(df_.num.value_counts(),'\\n', df.num.value_counts())"
   ]
  },
  {
   "cell_type": "code",
   "execution_count": 4,
   "metadata": {},
   "outputs": [],
   "source": [
    "from sklearn.model_selection import train_test_split\n",
    "\n",
    "# Split data into training and test sets\n",
    "X_train, X_test, y_train, y_test = train_test_split(df.drop('num',axis=1), df['num'], test_size=0.3, random_state=1234)\n",
    "X_train_, X_test_, y_train_, y_test_ = train_test_split(df_.drop('num',axis=1), df_['num'], test_size=0.3, random_state=1234)"
   ]
  },
  {
   "cell_type": "code",
   "execution_count": 27,
   "metadata": {},
   "outputs": [
    {
     "name": "stdout",
     "output_type": "stream",
     "text": [
      "Random forest scores trained on dataset with 4 classifications: \n",
      "{'Accuracy': 0.4807692307692308, 'Precision': 0.3935096153846154, 'Recall': 0.4807692307692308}\n",
      "Random forest scores trained on dataset with 2 classifications: \n",
      "{'Accuracy': 0.8365384615384616, 'Precision': 0.8909090909090909, 'Recall': 0.8166666666666667}\n"
     ]
    },
    {
     "name": "stderr",
     "output_type": "stream",
     "text": [
      "c:\\Users\\Louviers\\anaconda3\\envs\\pAnDaS\\lib\\site-packages\\sklearn\\metrics\\_classification.py:1327: UndefinedMetricWarning: Precision is ill-defined and being set to 0.0 in labels with no predicted samples. Use `zero_division` parameter to control this behavior.\n",
      "  _warn_prf(average, modifier, msg_start, len(result))\n"
     ]
    }
   ],
   "source": [
    "from sklearn.ensemble import RandomForestClassifier\n",
    "from sklearn.metrics import accuracy_score, precision_score, recall_score\n",
    "\n",
    "# Fit random forest models\n",
    "RFC_advanced = RandomForestClassifier(\n",
    "    n_estimators=150, min_samples_split=3, criterion=\"entropy\", random_state=1234\n",
    "    ).fit(X_train, y_train)\n",
    "\n",
    "RFC_basic = RandomForestClassifier(\n",
    "    n_estimators=150, min_samples_split=3, criterion=\"entropy\", random_state=1234\n",
    "    ).fit(X_train_, y_train_)\n",
    "\n",
    "\n",
    "# Score the models\n",
    "RFC_advanced_scores = {\n",
    "    \"Accuracy\":accuracy_score(y_test, RFC_advanced.predict(X_test)),\n",
    "    \"Precision\":precision_score(y_test, RFC_advanced.predict(X_test), average = \"weighted\"),\n",
    "    \"Recall\":recall_score(y_test, RFC_advanced.predict(X_test), average = \"weighted\")\n",
    "}\n",
    "RFC_basic_scores = {\n",
    "    \"Accuracy\":accuracy_score(y_test_, RFC_basic.predict(X_test_)),\n",
    "    \"Precision\":precision_score(y_test_, RFC_basic.predict(X_test_)),\n",
    "    \"Recall\":recall_score(y_test_, RFC_basic.predict(X_test_))\n",
    "}\n",
    "print(f'Random forest scores trained on dataset with 4 classifications: \\n{RFC_advanced_scores}')\n",
    "print(f'Random forest scores trained on dataset with 2 classifications: \\n{RFC_basic_scores}')"
   ]
  },
  {
   "cell_type": "code",
   "execution_count": 6,
   "metadata": {},
   "outputs": [],
   "source": [
    "# Import svm and normalize data\n",
    "from sklearn.preprocessing import MinMaxScaler\n",
    "from sklearn.svm import SVC\n",
    "X_train_standard = MinMaxScaler().fit_transform(X_train)\n",
    "X_test_standard = MinMaxScaler().fit_transform(X_test)\n",
    "X_train_standard_ = MinMaxScaler().fit_transform(X_train_)\n",
    "X_test_standard_ = MinMaxScaler().fit_transform(X_test_)"
   ]
  },
  {
   "cell_type": "code",
   "execution_count": 7,
   "metadata": {},
   "outputs": [
    {
     "name": "stdout",
     "output_type": "stream",
     "text": [
      "Support vector scores trained on dataset with 4 classifications: \n",
      "{'Accuracy': 0.5, 'Precision': 0.4348768556005398, 'Recall': 0.5}\n",
      "support vector scores trained on dataset with 2 classifications: \n",
      "{'Accuracy': 0.8173076923076923, 'Precision': 0.9019607843137255, 'Recall': 0.7666666666666667}\n"
     ]
    },
    {
     "name": "stderr",
     "output_type": "stream",
     "text": [
      "c:\\Users\\Louviers\\anaconda3\\envs\\pAnDaS\\lib\\site-packages\\sklearn\\metrics\\_classification.py:1327: UndefinedMetricWarning: Precision is ill-defined and being set to 0.0 in labels with no predicted samples. Use `zero_division` parameter to control this behavior.\n",
      "  _warn_prf(average, modifier, msg_start, len(result))\n"
     ]
    }
   ],
   "source": [
    "# Fit SVM models\n",
    "SVM_advanced = SVC(kernel = 'linear').fit(X_train_standard, y_train)\n",
    "SVM_basic = SVC(kernel = 'linear').fit(X_train_standard_, y_train_)\n",
    "\n",
    "# Score the models\n",
    "SVM_advanced_scores = {\n",
    "    \"Accuracy\":accuracy_score(y_test, SVM_advanced.predict(X_test_standard)),\n",
    "    \"Precision\":precision_score(y_test, SVM_advanced.predict(X_test_standard), average = \"weighted\"),\n",
    "    \"Recall\":recall_score(y_test, SVM_advanced.predict(X_test_standard), average = \"weighted\")\n",
    "}\n",
    "SVM_basic_scores = {\n",
    "    \"Accuracy\":accuracy_score(y_test_, SVM_basic.predict(X_test_standard_)),\n",
    "    \"Precision\":precision_score(y_test_, SVM_basic.predict(X_test_standard_)),\n",
    "    \"Recall\":recall_score(y_test_, SVM_basic.predict(X_test_standard_))\n",
    "}\n",
    "print(f'Support vector scores trained on dataset with 4 classifications: \\n{SVM_advanced_scores}')\n",
    "print(f'support vector scores trained on dataset with 2 classifications: \\n{SVM_basic_scores}')"
   ]
  },
  {
   "cell_type": "code",
   "execution_count": 8,
   "metadata": {},
   "outputs": [
    {
     "name": "stdout",
     "output_type": "stream",
     "text": [
      "{'age': True, 'sex': False, 'cp': False, 'trestbps': True, 'chol': True, 'fbs': False, 'restecg': False, 'thalach': True, 'exang': False, 'oldpeak': True, 'slope': False, 'ca': True, 'thal': True}\n"
     ]
    },
    {
     "data": {
      "text/plain": [
       "<AxesSubplot:>"
      ]
     },
     "execution_count": 8,
     "metadata": {},
     "output_type": "execute_result"
    },
    {
     "data": {
      "image/png": "[encoded data removed]",
      "text/plain": [
       "<Figure size 640x480 with 2 Axes>"
      ]
     },
     "metadata": {},
     "output_type": "display_data"
    }
   ],
   "source": [
    "import seaborn as sns\n",
    "import matplotlib.pyplot as plt\n",
    "from sklearn.feature_selection import SelectFromModel\n",
    "#Finding important features for correlations\n",
    "#Returns array with True for all feature importances greater than the mean value of all feature importances\n",
    "adv_importances = SelectFromModel(RFC_advanced).get_support()\n",
    "bas_importances = SelectFromModel(RFC_basic).get_support()\n",
    "\n",
    "#Finding features important in both RF classifiers\n",
    "most_important = []\n",
    "for x in range(len(adv_importances)):\n",
    "    if adv_importances[x] == bas_importances[x] and adv_importances[x] == True:\n",
    "        most_important.append(True)\n",
    "    else:\n",
    "        most_important.append(False)\n",
    "most_imp_dict = {}\n",
    "for A, B in zip(df.drop('num',axis=1).columns, most_important):\n",
    "    most_imp_dict[A] = B\n",
    "\n",
    "#Returns dict of most important features\n",
    "print(most_imp_dict)\n",
    "#Create bar graphs with feature importances\n",
    "fig, axes = plt.subplots(1,2)\n",
    "fig.subplots_adjust(wspace=0.35)\n",
    "sns.barplot(x=RFC_advanced.feature_importances_, y=df.drop('num',axis=1).columns, ax=axes[0], color='lightblue')\n",
    "sns.barplot(x=RFC_basic.feature_importances_, y=df.drop('num',axis=1).columns, ax=axes[1], color='lightblue')\n"
   ]
  },
  {
   "cell_type": "code",
   "execution_count": 29,
   "metadata": {},
   "outputs": [
    {
     "data": {
      "text/plain": [
       "<AxesSubplot:xlabel='num', ylabel='ca'>"
      ]
     },
     "execution_count": 29,
     "metadata": {},
     "output_type": "execute_result"
    },
    {
     "data": {
      "image/png": "[encoded data removed]",
      "text/plain": [
       "<Figure size 640x480 with 8 Axes>"
      ]
     },
     "metadata": {},
     "output_type": "display_data"
    }
   ],
   "source": [
    "#Creating lineplots for features most important to identifying heart disease to show their correlation \n",
    "fig, axes = plt.subplots(4, 2)\n",
    "fig.subplots_adjust(wspace=0.28)\n",
    "sns.pointplot(df, x='num', y='age', ax=axes[0,0], errorbar=None)\n",
    "sns.pointplot(df, x='num', y='trestbps', ax=axes[1,0], errorbar=None)\n",
    "sns.pointplot(df, x='num', y='chol', ax=axes[2,0], errorbar=None)\n",
    "sns.pointplot(df, x='num', y='thalach', ax=axes[0,1], errorbar=None)\n",
    "sns.pointplot(df, x='num', y='oldpeak', ax=axes[1,1], errorbar=None)\n",
    "sns.pointplot(df, x='num', y='thal', ax=axes[2,1], errorbar=None)\n",
    "sns.pointplot(df, x='num', y='ca', ax=axes[3,0], errorbar=None)"
   ]
  }
 ],
 "metadata": {
  "kernelspec": {
   "display_name": "Python 3.10.6 ('pAnDaS')",
   "language": "python",
   "name": "python3"
  },
  "language_info": {
   "codemirror_mode": {
    "name": "ipython",
    "version": 3
   },
   "file_extension": ".py",
   "mimetype": "text/x-python",
   "name": "python",
   "nbconvert_exporter": "python",
   "pygments_lexer": "ipython3",
   "version": "3.10.6"
  },
  "orig_nbformat": 4,
  "vscode": {
   "interpreter": {
    "hash": "b14f153acfa8d3ef3c19dc997ab3ff95229256a00bf5d1d3a7f935ffa2893e67"
   }
  }
 },
 "nbformat": 4,
 "nbformat_minor": 2
}
