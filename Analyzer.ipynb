{
 "cells": [
  {
   "cell_type": "code",
   "execution_count": 191,
   "metadata": {},
   "outputs": [],
   "source": [
    "import pandas as pd\n",
    "import numpy as np\n",
    "from sklearn.ensemble import RandomForestClassifier"
   ]
  },
  {
   "cell_type": "code",
   "execution_count": 226,
   "metadata": {},
   "outputs": [
    {
     "name": "stdout",
     "output_type": "stream",
     "text": [
      "<class 'pandas.core.frame.DataFrame'>\n",
      "RangeIndex: 346 entries, 0 to 345\n",
      "Data columns (total 14 columns):\n",
      " #   Column    Non-Null Count  Dtype  \n",
      "---  ------    --------------  -----  \n",
      " 0   age       346 non-null    float64\n",
      " 1   sex       346 non-null    float64\n",
      " 2   cp        346 non-null    float64\n",
      " 3   trestbps  346 non-null    float64\n",
      " 4   chol      346 non-null    float64\n",
      " 5   fbs       346 non-null    float64\n",
      " 6   restecg   346 non-null    float64\n",
      " 7   thalach   346 non-null    float64\n",
      " 8   exang     346 non-null    float64\n",
      " 9   oldpeak   346 non-null    float64\n",
      " 10  slope     346 non-null    float64\n",
      " 11  ca        346 non-null    int32  \n",
      " 12  thal      346 non-null    float64\n",
      " 13  num       346 non-null    int32  \n",
      "dtypes: float64(12), int32(2)\n",
      "memory usage: 35.3 KB\n"
     ]
    }
   ],
   "source": [
    "from cmath import nan\n",
    "\n",
    "\n",
    "cleveland = pd.read_csv('processed.cleveland.csv')\n",
    "switzerland = pd.read_csv('processed.switzerland.csv')\n",
    "df = pd.concat([cleveland, switzerland])\n",
    "df.replace('?', np.NAN, inplace=True)\n",
    "df.dropna(thresh=13, inplace = True)\n",
    "df.reset_index(inplace=True)\n",
    "df.drop('index', axis = 1, inplace = True)\n",
    "df[:] = df[:].astype(float)\n",
    "df.ca.fillna( df.ca.median(), inplace = True)\n",
    "df.thal.fillna(df.thal.mean(), inplace = True)\n",
    "df.ca = df.ca.astype(int)\n",
    "df.num = df.num.astype(int)\n",
    "df.info()\n"
   ]
  },
  {
   "cell_type": "code",
   "execution_count": 229,
   "metadata": {},
   "outputs": [],
   "source": [
    "from sklearn.model_selection import train_test_split\n",
    "X_train, X_test, y_train, y_test = train_test_split(df.drop('num',axis=1), df['num'], test_size=0.31, random_state=42)\n",
    "RFC = RandomForestClassifier(n_estimators=50).fit(X_train, y_train)"
   ]
  },
  {
   "cell_type": "code",
   "execution_count": 228,
   "metadata": {},
   "outputs": [],
   "source": [
    "from sklearn.metrics import accuracy_score, precision_score, recall_score\n"
   ]
  },
  {
   "cell_type": "code",
   "execution_count": null,
   "metadata": {},
   "outputs": [],
   "source": []
  }
 ],
 "metadata": {
  "kernelspec": {
   "display_name": "Python 3.9.12 ('base')",
   "language": "python",
   "name": "python3"
  },
  "language_info": {
   "codemirror_mode": {
    "name": "ipython",
    "version": 3
   },
   "file_extension": ".py",
   "mimetype": "text/x-python",
   "name": "python",
   "nbconvert_exporter": "python",
   "pygments_lexer": "ipython3",
   "version": "3.9.12"
  },
  "orig_nbformat": 4,
  "vscode": {
   "interpreter": {
    "hash": "f109407d8d89dca7fba128558d4d0c94f5d547a19269873718ae3cdc70ac15b4"
   }
  }
 },
 "nbformat": 4,
 "nbformat_minor": 2
}
